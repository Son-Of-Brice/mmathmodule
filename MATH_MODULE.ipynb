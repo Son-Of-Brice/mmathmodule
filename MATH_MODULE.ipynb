{
  "nbformat": 4,
  "nbformat_minor": 0,
  "metadata": {
    "colab": {
      "provenance": [],
      "authorship_tag": "ABX9TyOxAYNUfYkxkC0S9O8IU+GV",
      "include_colab_link": true
    },
    "kernelspec": {
      "name": "python3",
      "display_name": "Python 3"
    },
    "language_info": {
      "name": "python"
    }
  },
  "cells": [
    {
      "cell_type": "markdown",
      "metadata": {
        "id": "view-in-github",
        "colab_type": "text"
      },
      "source": [
        "<a href=\"https://colab.research.google.com/github/Son-Of-Brice/mmathmodule/blob/main/MATH_MODULE.ipynb\" target=\"_parent\"><img src=\"https://colab.research.google.com/assets/colab-badge.svg\" alt=\"Open In Colab\"/></a>"
      ]
    },
    {
      "cell_type": "code",
      "execution_count": null,
      "metadata": {
        "colab": {
          "base_uri": "https://localhost:8080/"
        },
        "id": "vIxcRlz61KiY",
        "outputId": "413e1cb6-8c20-44e4-f92f-b9d129c41f5a"
      },
      "outputs": [
        {
          "output_type": "stream",
          "name": "stdout",
          "text": [
            "Square root of 64: 8.0\n",
            "1.4 rounded upwards: 2\n",
            "1.3 rounded downwards: 1\n"
          ]
        }
      ],
      "source": [
        "# prompt: Using a map module find, square root of 64, 1.4 rounded upwards, 1.3 rounded downwards\n",
        "\n",
        "import math\n",
        "\n",
        "def calculate_and_round(num):\n",
        "  if isinstance(num, int):\n",
        "    return math.sqrt(num)\n",
        "  else:\n",
        "    ceil_val = math.ceil(num)\n",
        "    floor_val = math.floor(num)\n",
        "    return ceil_val, floor_val\n",
        "\n",
        "\n",
        "\n",
        "square_root_64 = calculate_and_round(64)\n",
        "ceil_1_4, floor_1_4 = calculate_and_round(1.4)\n",
        "ceil_1_3, floor_1_3 = calculate_and_round(1.3)\n",
        "\n",
        "print(f\"Square root of 64: {square_root_64}\")\n",
        "print(f\"1.4 rounded upwards: {ceil_1_4}\")\n",
        "print(f\"1.3 rounded downwards: {floor_1_3}\")"
      ]
    }
  ]
}